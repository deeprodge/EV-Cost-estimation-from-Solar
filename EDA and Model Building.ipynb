{
 "cells": [
  {
   "cell_type": "code",
   "execution_count": 86,
   "id": "aaa4d59b",
   "metadata": {},
   "outputs": [
    {
     "name": "stderr",
     "output_type": "stream",
     "text": [
      "/Library/Frameworks/Python.framework/Versions/3.8/lib/python3.8/site-packages/requests/__init__.py:78: RequestsDependencyWarning: urllib3 (1.26.12) or chardet (3.0.4) doesn't match a supported version!\n",
      "  warnings.warn(\"urllib3 ({0}) or chardet ({1}) doesn't match a supported \"\n"
     ]
    }
   ],
   "source": [
    "import datetime\n",
    "import time\n",
    "\n",
    "# for data handeling\n",
    "import numpy as np\n",
    "import pandas as pd\n",
    "import matplotlib.pyplot as plt\n",
    "import seaborn as sns\n",
    "\n",
    "# for the model\n",
    "from sklearn.metrics import accuracy_score\n",
    "from sklearn.model_selection import train_test_split\n",
    "from sklearn.ensemble import ExtraTreesRegressor\n",
    "from sklearn.linear_model import LinearRegression\n",
    "from sklearn.model_selection import cross_val_score\n",
    "from sklearn.metrics import explained_variance_score, mean_squared_error, r2_score\n",
    "\n",
    "# for API handeling\n",
    "import requests\n",
    "import json\n",
    "from datetime import datetime\n",
    "import pytz"
   ]
  },
  {
   "cell_type": "code",
   "execution_count": 61,
   "id": "7a200b8d",
   "metadata": {},
   "outputs": [],
   "source": [
    "root = \"\"\n",
    "data_2017 = pd.read_csv(root+\"3063829_21.17_72.82_2017.csv\");\n",
    "data_2018 = pd.read_csv(root+\"3063829_21.17_72.82_2018.csv\");\n",
    "data_2019 = pd.read_csv(root+\"3063829_21.17_72.82_2019.csv\");\n",
    "irr_volt_data = pd.read_csv(root+\"datasolar.csv\")\n",
    "irr_power_data = pd.read_csv(root+\"matdata.csv\")"
   ]
  },
  {
   "cell_type": "code",
   "execution_count": 10,
   "id": "c112b7c0",
   "metadata": {},
   "outputs": [],
   "source": [
    "combined_data = pd.concat([data_2017, data_2018, data_2019], axis=0).reset_index(drop=True)"
   ]
  },
  {
   "cell_type": "code",
   "execution_count": 37,
   "id": "4b01dbed",
   "metadata": {},
   "outputs": [],
   "source": [
    "combined_data['date_time'] = combined_data['Year'].astype('string')+'/'+combined_data['Month'].astype('string')+'/'+combined_data['Day'].astype('string')+\" \"++combined_data['Hour'].astype('string')+\":\"++combined_data['Minute'].astype('string')"
   ]
  },
  {
   "cell_type": "code",
   "execution_count": 38,
   "id": "74b1614e",
   "metadata": {},
   "outputs": [
    {
     "data": {
      "text/html": [
       "<div>\n",
       "<style scoped>\n",
       "    .dataframe tbody tr th:only-of-type {\n",
       "        vertical-align: middle;\n",
       "    }\n",
       "\n",
       "    .dataframe tbody tr th {\n",
       "        vertical-align: top;\n",
       "    }\n",
       "\n",
       "    .dataframe thead th {\n",
       "        text-align: right;\n",
       "    }\n",
       "</style>\n",
       "<table border=\"1\" class=\"dataframe\">\n",
       "  <thead>\n",
       "    <tr style=\"text-align: right;\">\n",
       "      <th></th>\n",
       "      <th>Year</th>\n",
       "      <th>Month</th>\n",
       "      <th>Day</th>\n",
       "      <th>Hour</th>\n",
       "      <th>Minute</th>\n",
       "      <th>Temperature</th>\n",
       "      <th>DHI</th>\n",
       "      <th>Wind Speed</th>\n",
       "      <th>Pressure</th>\n",
       "      <th>Wind Direction</th>\n",
       "      <th>GHI</th>\n",
       "      <th>DNI</th>\n",
       "      <th>Relative Humidity</th>\n",
       "      <th>date_time</th>\n",
       "    </tr>\n",
       "  </thead>\n",
       "  <tbody>\n",
       "    <tr>\n",
       "      <th>0</th>\n",
       "      <td>2017</td>\n",
       "      <td>1</td>\n",
       "      <td>1</td>\n",
       "      <td>0</td>\n",
       "      <td>30</td>\n",
       "      <td>19.0</td>\n",
       "      <td>0</td>\n",
       "      <td>1.5</td>\n",
       "      <td>1012</td>\n",
       "      <td>96</td>\n",
       "      <td>0</td>\n",
       "      <td>0</td>\n",
       "      <td>67.73</td>\n",
       "      <td>2017/1/1 0:30</td>\n",
       "    </tr>\n",
       "    <tr>\n",
       "      <th>1</th>\n",
       "      <td>2017</td>\n",
       "      <td>1</td>\n",
       "      <td>1</td>\n",
       "      <td>1</td>\n",
       "      <td>30</td>\n",
       "      <td>19.2</td>\n",
       "      <td>0</td>\n",
       "      <td>1.5</td>\n",
       "      <td>1013</td>\n",
       "      <td>91</td>\n",
       "      <td>0</td>\n",
       "      <td>0</td>\n",
       "      <td>64.43</td>\n",
       "      <td>2017/1/1 1:30</td>\n",
       "    </tr>\n",
       "    <tr>\n",
       "      <th>2</th>\n",
       "      <td>2017</td>\n",
       "      <td>1</td>\n",
       "      <td>1</td>\n",
       "      <td>2</td>\n",
       "      <td>30</td>\n",
       "      <td>20.8</td>\n",
       "      <td>54</td>\n",
       "      <td>1.8</td>\n",
       "      <td>1014</td>\n",
       "      <td>87</td>\n",
       "      <td>87</td>\n",
       "      <td>225</td>\n",
       "      <td>56.83</td>\n",
       "      <td>2017/1/1 2:30</td>\n",
       "    </tr>\n",
       "    <tr>\n",
       "      <th>3</th>\n",
       "      <td>2017</td>\n",
       "      <td>1</td>\n",
       "      <td>1</td>\n",
       "      <td>3</td>\n",
       "      <td>30</td>\n",
       "      <td>23.4</td>\n",
       "      <td>116</td>\n",
       "      <td>1.9</td>\n",
       "      <td>1014</td>\n",
       "      <td>67</td>\n",
       "      <td>287</td>\n",
       "      <td>494</td>\n",
       "      <td>46.23</td>\n",
       "      <td>2017/1/1 3:30</td>\n",
       "    </tr>\n",
       "    <tr>\n",
       "      <th>4</th>\n",
       "      <td>2017</td>\n",
       "      <td>1</td>\n",
       "      <td>1</td>\n",
       "      <td>4</td>\n",
       "      <td>30</td>\n",
       "      <td>26.1</td>\n",
       "      <td>150</td>\n",
       "      <td>2.1</td>\n",
       "      <td>1014</td>\n",
       "      <td>44</td>\n",
       "      <td>478</td>\n",
       "      <td>642</td>\n",
       "      <td>37.10</td>\n",
       "      <td>2017/1/1 4:30</td>\n",
       "    </tr>\n",
       "    <tr>\n",
       "      <th>...</th>\n",
       "      <td>...</td>\n",
       "      <td>...</td>\n",
       "      <td>...</td>\n",
       "      <td>...</td>\n",
       "      <td>...</td>\n",
       "      <td>...</td>\n",
       "      <td>...</td>\n",
       "      <td>...</td>\n",
       "      <td>...</td>\n",
       "      <td>...</td>\n",
       "      <td>...</td>\n",
       "      <td>...</td>\n",
       "      <td>...</td>\n",
       "      <td>...</td>\n",
       "    </tr>\n",
       "    <tr>\n",
       "      <th>26275</th>\n",
       "      <td>2019</td>\n",
       "      <td>12</td>\n",
       "      <td>31</td>\n",
       "      <td>19</td>\n",
       "      <td>30</td>\n",
       "      <td>17.5</td>\n",
       "      <td>0</td>\n",
       "      <td>2.6</td>\n",
       "      <td>1012</td>\n",
       "      <td>73</td>\n",
       "      <td>0</td>\n",
       "      <td>0</td>\n",
       "      <td>86.23</td>\n",
       "      <td>2019/12/31 19:30</td>\n",
       "    </tr>\n",
       "    <tr>\n",
       "      <th>26276</th>\n",
       "      <td>2019</td>\n",
       "      <td>12</td>\n",
       "      <td>31</td>\n",
       "      <td>20</td>\n",
       "      <td>30</td>\n",
       "      <td>17.1</td>\n",
       "      <td>0</td>\n",
       "      <td>2.4</td>\n",
       "      <td>1011</td>\n",
       "      <td>99</td>\n",
       "      <td>0</td>\n",
       "      <td>0</td>\n",
       "      <td>88.14</td>\n",
       "      <td>2019/12/31 20:30</td>\n",
       "    </tr>\n",
       "    <tr>\n",
       "      <th>26277</th>\n",
       "      <td>2019</td>\n",
       "      <td>12</td>\n",
       "      <td>31</td>\n",
       "      <td>21</td>\n",
       "      <td>30</td>\n",
       "      <td>16.7</td>\n",
       "      <td>0</td>\n",
       "      <td>2.3</td>\n",
       "      <td>1011</td>\n",
       "      <td>119</td>\n",
       "      <td>0</td>\n",
       "      <td>0</td>\n",
       "      <td>90.91</td>\n",
       "      <td>2019/12/31 21:30</td>\n",
       "    </tr>\n",
       "    <tr>\n",
       "      <th>26278</th>\n",
       "      <td>2019</td>\n",
       "      <td>12</td>\n",
       "      <td>31</td>\n",
       "      <td>22</td>\n",
       "      <td>30</td>\n",
       "      <td>16.4</td>\n",
       "      <td>0</td>\n",
       "      <td>2.1</td>\n",
       "      <td>1011</td>\n",
       "      <td>128</td>\n",
       "      <td>0</td>\n",
       "      <td>0</td>\n",
       "      <td>93.50</td>\n",
       "      <td>2019/12/31 22:30</td>\n",
       "    </tr>\n",
       "    <tr>\n",
       "      <th>26279</th>\n",
       "      <td>2019</td>\n",
       "      <td>12</td>\n",
       "      <td>31</td>\n",
       "      <td>23</td>\n",
       "      <td>30</td>\n",
       "      <td>16.2</td>\n",
       "      <td>0</td>\n",
       "      <td>2.0</td>\n",
       "      <td>1011</td>\n",
       "      <td>130</td>\n",
       "      <td>0</td>\n",
       "      <td>0</td>\n",
       "      <td>95.11</td>\n",
       "      <td>2019/12/31 23:30</td>\n",
       "    </tr>\n",
       "  </tbody>\n",
       "</table>\n",
       "<p>26280 rows × 14 columns</p>\n",
       "</div>"
      ],
      "text/plain": [
       "       Year  Month  Day  Hour  Minute  Temperature  DHI  Wind Speed  Pressure  \\\n",
       "0      2017      1    1     0      30         19.0    0         1.5      1012   \n",
       "1      2017      1    1     1      30         19.2    0         1.5      1013   \n",
       "2      2017      1    1     2      30         20.8   54         1.8      1014   \n",
       "3      2017      1    1     3      30         23.4  116         1.9      1014   \n",
       "4      2017      1    1     4      30         26.1  150         2.1      1014   \n",
       "...     ...    ...  ...   ...     ...          ...  ...         ...       ...   \n",
       "26275  2019     12   31    19      30         17.5    0         2.6      1012   \n",
       "26276  2019     12   31    20      30         17.1    0         2.4      1011   \n",
       "26277  2019     12   31    21      30         16.7    0         2.3      1011   \n",
       "26278  2019     12   31    22      30         16.4    0         2.1      1011   \n",
       "26279  2019     12   31    23      30         16.2    0         2.0      1011   \n",
       "\n",
       "       Wind Direction  GHI  DNI  Relative Humidity         date_time  \n",
       "0                  96    0    0              67.73     2017/1/1 0:30  \n",
       "1                  91    0    0              64.43     2017/1/1 1:30  \n",
       "2                  87   87  225              56.83     2017/1/1 2:30  \n",
       "3                  67  287  494              46.23     2017/1/1 3:30  \n",
       "4                  44  478  642              37.10     2017/1/1 4:30  \n",
       "...               ...  ...  ...                ...               ...  \n",
       "26275              73    0    0              86.23  2019/12/31 19:30  \n",
       "26276              99    0    0              88.14  2019/12/31 20:30  \n",
       "26277             119    0    0              90.91  2019/12/31 21:30  \n",
       "26278             128    0    0              93.50  2019/12/31 22:30  \n",
       "26279             130    0    0              95.11  2019/12/31 23:30  \n",
       "\n",
       "[26280 rows x 14 columns]"
      ]
     },
     "execution_count": 38,
     "metadata": {},
     "output_type": "execute_result"
    }
   ],
   "source": [
    "combined_data"
   ]
  },
  {
   "cell_type": "code",
   "execution_count": 48,
   "id": "84bd235c",
   "metadata": {},
   "outputs": [],
   "source": [
    "combined_data['UTC'] = combined_data['date_time'].apply(lambda x:datetime.datetime.timestamp(datetime.datetime.strptime(x,\n",
    "                                                             \"%Y/%m/%d %H:%M\")))"
   ]
  },
  {
   "cell_type": "code",
   "execution_count": 67,
   "id": "28e06595",
   "metadata": {
    "scrolled": true
   },
   "outputs": [],
   "source": [
    "cols = ['Year',\n",
    " 'Month',\n",
    " 'Day',\n",
    " 'Hour',\n",
    " 'Minute',\n",
    " 'Temperature',\n",
    " 'Wind Speed',\n",
    " 'Pressure',\n",
    " 'Wind Direction',\n",
    " 'Relative Humidity',\n",
    " 'UTC',\n",
    " 'GHI']\n",
    "combined_data = combined_data[cols]"
   ]
  },
  {
   "cell_type": "code",
   "execution_count": 54,
   "id": "e5edf502",
   "metadata": {},
   "outputs": [],
   "source": [
    "combined_data = combined_data.drop(['DHI','DNI','date_time'],axis = 1)"
   ]
  },
  {
   "cell_type": "code",
   "execution_count": 68,
   "id": "070183e4",
   "metadata": {
    "scrolled": true
   },
   "outputs": [
    {
     "data": {
      "text/plain": [
       "<AxesSubplot:>"
      ]
     },
     "execution_count": 68,
     "metadata": {},
     "output_type": "execute_result"
    },
    {
     "data": {
      "image/png": "[encoded data removed]",
      "text/plain": [
       "<Figure size 432x288 with 2 Axes>"
      ]
     },
     "metadata": {
      "needs_background": "light"
     },
     "output_type": "display_data"
    }
   ],
   "source": [
    "correlation = combined_data.drop('Minute',axis =1).corr(method = 'pearson')\n",
    "sns.heatmap(correlation, cmap=sns.color_palette(\"Oranges\"))"
   ]
  },
  {
   "cell_type": "code",
   "execution_count": 69,
   "id": "580421ad",
   "metadata": {},
   "outputs": [
    {
     "data": {
      "text/plain": [
       "<AxesSubplot:>"
      ]
     },
     "execution_count": 69,
     "metadata": {},
     "output_type": "execute_result"
    },
    {
     "data": {
      "image/png": "[encoded data removed]",
      "text/plain": [
       "<Figure size 432x288 with 2 Axes>"
      ]
     },
     "metadata": {
      "needs_background": "light"
     },
     "output_type": "display_data"
    }
   ],
   "source": [
    "correlation = irr_volt_data.corr(method = 'pearson')\n",
    "sns.heatmap(correlation, cmap=sns.color_palette(\"Oranges\"))"
   ]
  },
  {
   "cell_type": "code",
   "execution_count": 70,
   "id": "9c8d068e",
   "metadata": {},
   "outputs": [
    {
     "data": {
      "text/plain": [
       "<AxesSubplot:>"
      ]
     },
     "execution_count": 70,
     "metadata": {},
     "output_type": "execute_result"
    },
    {
     "data": {
      "image/png": "[encoded data removed]",
      "text/plain": [
       "<Figure size 432x288 with 2 Axes>"
      ]
     },
     "metadata": {
      "needs_background": "light"
     },
     "output_type": "display_data"
    }
   ],
   "source": [
    "correlation = irr_power_data.corr(method = 'pearson')\n",
    "sns.heatmap(correlation, cmap=sns.color_palette(\"Oranges\"))"
   ]
  },
  {
   "cell_type": "code",
   "execution_count": 179,
   "id": "39f1be3d",
   "metadata": {},
   "outputs": [],
   "source": [
    "def model_maker(data,key):\n",
    "    # creating the model.\n",
    "    regressor = LinearRegression()\n",
    "\n",
    "    # extracting X and Y from the data.\n",
    "    df2 = data.iloc[:,:-1]\n",
    "    X = df2.to_numpy()\n",
    "    Y = data[key].to_numpy()\n",
    "\n",
    "    # X_train and Y_train for training the model. X_test, Y_test for testing.\n",
    "    X_train, X_test, Y_train, Y_test = train_test_split(X,Y, train_size=0.80, random_state=1)\n",
    "\n",
    "    #fitting the model\n",
    "    regressor.fit(X_train, Y_train)\n",
    "\n",
    "    # Calcuting the accuracies\n",
    "    accuracies = cross_val_score(estimator = regressor, X = X_train,y = Y_train, cv = 2, scoring = 'r2')\n",
    "    accuracy = accuracies.mean()\n",
    "    print('\\n--------------------------------------------------\\n')\n",
    "    print('From Training Data:')\n",
    "    print(f'r2 = {accuracy}\\n')\n",
    "\n",
    "\n",
    "    # predicting radiance and accuracy calculation\n",
    "    y_pred = regressor.predict(X_test)\n",
    "    explained_variance_score2 = explained_variance_score(Y_test, y_pred)\n",
    "    mean_squared_error2 = mean_squared_error(Y_test, y_pred)\n",
    "    r_squared = r2_score(Y_test, y_pred)\n",
    "\n",
    "    \n",
    "    print('From Testing Data:')\n",
    "    print(f'explained variance = {explained_variance_score2}')\n",
    "    print(f'mse = {mean_squared_error2}')\n",
    "    print(f'r2 = {r_squared}')\n",
    "\n",
    "    plt.plot(Y_test[:50])\n",
    "    plt.plot(y_pred[:50])\n",
    "    plt.show()\n",
    "    print('\\n--------------------------------------------------\\n')\n",
    "    return regressor"
   ]
  },
  {
   "cell_type": "code",
   "execution_count": 180,
   "id": "d49f43b9",
   "metadata": {},
   "outputs": [
    {
     "data": {
      "text/html": [
       "<div>\n",
       "<style scoped>\n",
       "    .dataframe tbody tr th:only-of-type {\n",
       "        vertical-align: middle;\n",
       "    }\n",
       "\n",
       "    .dataframe tbody tr th {\n",
       "        vertical-align: top;\n",
       "    }\n",
       "\n",
       "    .dataframe thead th {\n",
       "        text-align: right;\n",
       "    }\n",
       "</style>\n",
       "<table border=\"1\" class=\"dataframe\">\n",
       "  <thead>\n",
       "    <tr style=\"text-align: right;\">\n",
       "      <th></th>\n",
       "      <th>Month</th>\n",
       "      <th>Day</th>\n",
       "      <th>Hour</th>\n",
       "      <th>Minute</th>\n",
       "      <th>Temperature</th>\n",
       "      <th>Wind Speed</th>\n",
       "      <th>Pressure</th>\n",
       "      <th>Wind Direction</th>\n",
       "      <th>Relative Humidity</th>\n",
       "      <th>UTC</th>\n",
       "    </tr>\n",
       "  </thead>\n",
       "  <tbody>\n",
       "    <tr>\n",
       "      <th>0</th>\n",
       "      <td>1</td>\n",
       "      <td>1</td>\n",
       "      <td>0</td>\n",
       "      <td>30</td>\n",
       "      <td>19.0</td>\n",
       "      <td>1.5</td>\n",
       "      <td>1012</td>\n",
       "      <td>96</td>\n",
       "      <td>67.73</td>\n",
       "      <td>1.483211e+09</td>\n",
       "    </tr>\n",
       "    <tr>\n",
       "      <th>1</th>\n",
       "      <td>1</td>\n",
       "      <td>1</td>\n",
       "      <td>1</td>\n",
       "      <td>30</td>\n",
       "      <td>19.2</td>\n",
       "      <td>1.5</td>\n",
       "      <td>1013</td>\n",
       "      <td>91</td>\n",
       "      <td>64.43</td>\n",
       "      <td>1.483214e+09</td>\n",
       "    </tr>\n",
       "    <tr>\n",
       "      <th>2</th>\n",
       "      <td>1</td>\n",
       "      <td>1</td>\n",
       "      <td>2</td>\n",
       "      <td>30</td>\n",
       "      <td>20.8</td>\n",
       "      <td>1.8</td>\n",
       "      <td>1014</td>\n",
       "      <td>87</td>\n",
       "      <td>56.83</td>\n",
       "      <td>1.483218e+09</td>\n",
       "    </tr>\n",
       "    <tr>\n",
       "      <th>3</th>\n",
       "      <td>1</td>\n",
       "      <td>1</td>\n",
       "      <td>3</td>\n",
       "      <td>30</td>\n",
       "      <td>23.4</td>\n",
       "      <td>1.9</td>\n",
       "      <td>1014</td>\n",
       "      <td>67</td>\n",
       "      <td>46.23</td>\n",
       "      <td>1.483222e+09</td>\n",
       "    </tr>\n",
       "    <tr>\n",
       "      <th>4</th>\n",
       "      <td>1</td>\n",
       "      <td>1</td>\n",
       "      <td>4</td>\n",
       "      <td>30</td>\n",
       "      <td>26.1</td>\n",
       "      <td>2.1</td>\n",
       "      <td>1014</td>\n",
       "      <td>44</td>\n",
       "      <td>37.10</td>\n",
       "      <td>1.483225e+09</td>\n",
       "    </tr>\n",
       "    <tr>\n",
       "      <th>...</th>\n",
       "      <td>...</td>\n",
       "      <td>...</td>\n",
       "      <td>...</td>\n",
       "      <td>...</td>\n",
       "      <td>...</td>\n",
       "      <td>...</td>\n",
       "      <td>...</td>\n",
       "      <td>...</td>\n",
       "      <td>...</td>\n",
       "      <td>...</td>\n",
       "    </tr>\n",
       "    <tr>\n",
       "      <th>26275</th>\n",
       "      <td>12</td>\n",
       "      <td>31</td>\n",
       "      <td>19</td>\n",
       "      <td>30</td>\n",
       "      <td>17.5</td>\n",
       "      <td>2.6</td>\n",
       "      <td>1012</td>\n",
       "      <td>73</td>\n",
       "      <td>86.23</td>\n",
       "      <td>1.577801e+09</td>\n",
       "    </tr>\n",
       "    <tr>\n",
       "      <th>26276</th>\n",
       "      <td>12</td>\n",
       "      <td>31</td>\n",
       "      <td>20</td>\n",
       "      <td>30</td>\n",
       "      <td>17.1</td>\n",
       "      <td>2.4</td>\n",
       "      <td>1011</td>\n",
       "      <td>99</td>\n",
       "      <td>88.14</td>\n",
       "      <td>1.577804e+09</td>\n",
       "    </tr>\n",
       "    <tr>\n",
       "      <th>26277</th>\n",
       "      <td>12</td>\n",
       "      <td>31</td>\n",
       "      <td>21</td>\n",
       "      <td>30</td>\n",
       "      <td>16.7</td>\n",
       "      <td>2.3</td>\n",
       "      <td>1011</td>\n",
       "      <td>119</td>\n",
       "      <td>90.91</td>\n",
       "      <td>1.577808e+09</td>\n",
       "    </tr>\n",
       "    <tr>\n",
       "      <th>26278</th>\n",
       "      <td>12</td>\n",
       "      <td>31</td>\n",
       "      <td>22</td>\n",
       "      <td>30</td>\n",
       "      <td>16.4</td>\n",
       "      <td>2.1</td>\n",
       "      <td>1011</td>\n",
       "      <td>128</td>\n",
       "      <td>93.50</td>\n",
       "      <td>1.577812e+09</td>\n",
       "    </tr>\n",
       "    <tr>\n",
       "      <th>26279</th>\n",
       "      <td>12</td>\n",
       "      <td>31</td>\n",
       "      <td>23</td>\n",
       "      <td>30</td>\n",
       "      <td>16.2</td>\n",
       "      <td>2.0</td>\n",
       "      <td>1011</td>\n",
       "      <td>130</td>\n",
       "      <td>95.11</td>\n",
       "      <td>1.577815e+09</td>\n",
       "    </tr>\n",
       "  </tbody>\n",
       "</table>\n",
       "<p>26280 rows × 10 columns</p>\n",
       "</div>"
      ],
      "text/plain": [
       "       Month  Day  Hour  Minute  Temperature  Wind Speed  Pressure  \\\n",
       "0          1    1     0      30         19.0         1.5      1012   \n",
       "1          1    1     1      30         19.2         1.5      1013   \n",
       "2          1    1     2      30         20.8         1.8      1014   \n",
       "3          1    1     3      30         23.4         1.9      1014   \n",
       "4          1    1     4      30         26.1         2.1      1014   \n",
       "...      ...  ...   ...     ...          ...         ...       ...   \n",
       "26275     12   31    19      30         17.5         2.6      1012   \n",
       "26276     12   31    20      30         17.1         2.4      1011   \n",
       "26277     12   31    21      30         16.7         2.3      1011   \n",
       "26278     12   31    22      30         16.4         2.1      1011   \n",
       "26279     12   31    23      30         16.2         2.0      1011   \n",
       "\n",
       "       Wind Direction  Relative Humidity           UTC  \n",
       "0                  96              67.73  1.483211e+09  \n",
       "1                  91              64.43  1.483214e+09  \n",
       "2                  87              56.83  1.483218e+09  \n",
       "3                  67              46.23  1.483222e+09  \n",
       "4                  44              37.10  1.483225e+09  \n",
       "...               ...                ...           ...  \n",
       "26275              73              86.23  1.577801e+09  \n",
       "26276              99              88.14  1.577804e+09  \n",
       "26277             119              90.91  1.577808e+09  \n",
       "26278             128              93.50  1.577812e+09  \n",
       "26279             130              95.11  1.577815e+09  \n",
       "\n",
       "[26280 rows x 10 columns]"
      ]
     },
     "execution_count": 180,
     "metadata": {},
     "output_type": "execute_result"
    }
   ],
   "source": [
    "combined_data.iloc[:,1:-1]\n"
   ]
  },
  {
   "cell_type": "code",
   "execution_count": 181,
   "id": "2e536411",
   "metadata": {},
   "outputs": [
    {
     "name": "stdout",
     "output_type": "stream",
     "text": [
      "\n",
      "--------------------------------------------------\n",
      "\n",
      "From Training Data:\n",
      "r2 = 0.6342793453420029\n",
      "\n",
      "From Testing Data:\n",
      "explained variance = 0.6395281701664115\n",
      "mse = 31734.328642829652\n",
      "r2 = 0.6395081860655379\n"
     ]
    },
    {
     "data": {
      "image/png": "[encoded data removed]",
      "text/plain": [
       "<Figure size 432x288 with 1 Axes>"
      ]
     },
     "metadata": {
      "needs_background": "light"
     },
     "output_type": "display_data"
    },
    {
     "name": "stdout",
     "output_type": "stream",
     "text": [
      "\n",
      "--------------------------------------------------\n",
      "\n"
     ]
    }
   ],
   "source": [
    "# creating the models for irradiance and voltage.\n",
    "irradiance_model = model_maker(combined_data.drop('UTC',axis = 1),'GHI')"
   ]
  },
  {
   "cell_type": "code",
   "execution_count": 84,
   "id": "8807a770",
   "metadata": {},
   "outputs": [
    {
     "name": "stdout",
     "output_type": "stream",
     "text": [
      "\n",
      "--------------------------------------------------\n",
      "\n",
      "From Training Data:\n",
      "r2 = 0.9778311866470759\n",
      "\n",
      "From Testing Data:\n",
      "explained variance = 0.9762039509053443\n",
      "mse = 25.992474259978422\n",
      "r2 = 0.9761229427295558\n"
     ]
    },
    {
     "data": {
      "image/png": "[encoded data removed]",
      "text/plain": [
       "<Figure size 432x288 with 1 Axes>"
      ]
     },
     "metadata": {
      "needs_background": "light"
     },
     "output_type": "display_data"
    },
    {
     "name": "stdout",
     "output_type": "stream",
     "text": [
      "\n",
      "--------------------------------------------------\n",
      "\n"
     ]
    }
   ],
   "source": [
    "voltage_model = model_maker(matlab_data,'Voltage')"
   ]
  },
  {
   "cell_type": "code",
   "execution_count": 85,
   "id": "1d4bff23",
   "metadata": {},
   "outputs": [
    {
     "name": "stdout",
     "output_type": "stream",
     "text": [
      "\n",
      "--------------------------------------------------\n",
      "\n",
      "From Training Data:\n",
      "r2 = 0.9999733595110097\n",
      "\n",
      "From Testing Data:\n",
      "explained variance = 0.9999071699862887\n",
      "mse = 1.279531233510361\n",
      "r2 = 0.9998745923021889\n"
     ]
    },
    {
     "data": {
      "image/png": "[encoded data removed]",
      "text/plain": [
       "<Figure size 432x288 with 1 Axes>"
      ]
     },
     "metadata": {
      "needs_background": "light"
     },
     "output_type": "display_data"
    },
    {
     "name": "stdout",
     "output_type": "stream",
     "text": [
      "\n",
      "--------------------------------------------------\n",
      "\n"
     ]
    }
   ],
   "source": [
    "mat_model = model_maker(matdata,'Power')"
   ]
  },
  {
   "cell_type": "code",
   "execution_count": 175,
   "id": "d3bba218",
   "metadata": {},
   "outputs": [],
   "source": [
    "def round_minute(hour, min):\n",
    "    if (min<15 and min>0):\n",
    "        return hour,0\n",
    "    elif (min>=15 and min<45):\n",
    "        return hour, 30\n",
    "    else:\n",
    "        return hour+1, 0 \n",
    "    \n",
    "# The below function handles the API call.\n",
    "def API_handler(lat=21.1663287,lon=72.7832836):\n",
    "    url = \"https://api.openweathermap.org/data/2.5/weather?lat=\"+str(lat)+\"&lon=\"+str(lon)+\"&appid=61ad3db633bd7d6485e331462920f750\"\n",
    "    response = requests.get(url)\n",
    "\n",
    "    if response.status_code == 200:\n",
    "        print(\"Sucessfully fetched the data from the API.\")\n",
    "    else:\n",
    "        print(f\"Hello User!, there's a {response.status_code} error with your request. Can not fetch the data.\")\n",
    "\n",
    "    fetched_data = response.json()\n",
    "    print(fetched_data)\n",
    "\n",
    "    # print(currTime)\n",
    "    return np.array([[datetime.now().year,\n",
    "  datetime.now().month,\n",
    "  datetime.now().day, \n",
    "  round_minute(datetime.now().hour,datetime.now().minute)[0]-5, \n",
    "  round_minute(datetime.now().hour,datetime.now().minute)[1],\n",
    "  fetched_data['main']['temp']-273.15,\n",
    "  fetched_data['wind']['speed'],\n",
    "  fetched_data['main']['pressure'],\n",
    " fetched_data['wind']['deg'],\n",
    " fetched_data['main']['humidity']\n",
    " ]])"
   ]
  },
  {
   "cell_type": "code",
   "execution_count": 173,
   "id": "61dfe1ff",
   "metadata": {},
   "outputs": [
    {
     "name": "stdout",
     "output_type": "stream",
     "text": [
      "Sucessfully fetched the data from the API.\n",
      "{'coord': {'lon': 72.7833, 'lat': 21.1663}, 'weather': [{'id': 711, 'main': 'Smoke', 'description': 'smoke', 'icon': '50d'}], 'base': 'stations', 'main': {'temp': 307.12, 'feels_like': 306.57, 'temp_min': 307.12, 'temp_max': 307.12, 'pressure': 1013, 'humidity': 31}, 'visibility': 4000, 'wind': {'speed': 3.09, 'deg': 220}, 'clouds': {'all': 83}, 'dt': 1667808503, 'sys': {'type': 1, 'id': 9071, 'country': 'IN', 'sunrise': 1667783678, 'sunset': 1667824226}, 'timezone': 19800, 'id': 1255364, 'name': 'Surat', 'cod': 200}\n"
     ]
    }
   ],
   "source": [
    "api_data = API_handler()"
   ]
  },
  {
   "cell_type": "code",
   "execution_count": 182,
   "id": "d24076f2",
   "metadata": {},
   "outputs": [
    {
     "name": "stdout",
     "output_type": "stream",
     "text": [
      "Irradiance = 710.4920749771481 and OC Voltage = 350.50867411549564\n"
     ]
    }
   ],
   "source": [
    "irr = irradiance_model.predict(api_data)[0]\n",
    "vol = voltage_model.predict([[api_data[0][-1],irr]])[0]\n",
    "powe = mat_model.predict([[api_data[0][-1],irr]])[0]\n",
    "\n",
    "print(f\"Irradiance = {irr} and OC Voltage = {vol}\")"
   ]
  },
  {
   "cell_type": "code",
   "execution_count": null,
   "id": "252bc359",
   "metadata": {},
   "outputs": [],
   "source": []
  }
 ],
 "metadata": {
  "kernelspec": {
   "display_name": "Python 3 (ipykernel)",
   "language": "python",
   "name": "python3"
  },
  "language_info": {
   "codemirror_mode": {
    "name": "ipython",
    "version": 3
   },
   "file_extension": ".py",
   "mimetype": "text/x-python",
   "name": "python",
   "nbconvert_exporter": "python",
   "pygments_lexer": "ipython3",
   "version": "3.8.10"
  }
 },
 "nbformat": 4,
 "nbformat_minor": 5
}
